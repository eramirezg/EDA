{
 "cells": [
  {
   "cell_type": "markdown",
   "metadata": {
    "id": "axrIs1HocCq7"
   },
   "source": [
    "# Bibliotecas de Python para EDA\n",
    "\n",
    "Es esencial garantizar que los datos sean de buena calidad antes de ejecutar modelos de aprendizaje automático. Si alimentamos estos modelos con datos de mala calidad, podemos terminar con consecuencias inesperadas o no deseadas. Sin embargo, llevar a cabo el trabajo de preparación con los datos y tratar de comprender lo que se tiene o no lleva mucho tiempo. A menudo, este proceso puede consumir hasta el 90% del tiempo disponible de un proyecto.\n",
    "\n",
    "Si realiza un análisis de datos exploratorios (EDA) dentro de Python, conocerá las bibliotecas comunes como pandas, matplotlib y seaborn. Todas son excelentes bibliotecas, pero cada una tiene sus propios matices, que pueden llevar tiempo aprender o recordar.\n",
    "\n",
    "En los últimos años, ha habido varias bibliotecas Python potentes de bajo código que hacen que la fase de exploración y análisis de datos de los proyectos sea mucho más rápida y sencilla.\n",
    "\n",
    "En este capitulo, le presentaré algunas de estas bibliotecas de Python, que mejorarán su flujo de trabajo de análisis de datos. Todo lo cual se puede ejecutar dentro de un entorno de notebook Jupyter.\n",
    "\n",
    "## YData Profiling (anteriormente Profiling de Pandas)\n",
    "\n",
    "La biblioteca YData Profiling, anteriormente conocida como Pandas Profiling , le permite crear informes detallados basados ​​en un dataframe de pandas. Es muy sencillo de navegar y proporciona información sobre las variables individuales, análisis de datos faltantes, correlaciones de datos e interacciones.\n",
    "\n",
    "Un pequeño problema con YData Profiling es la capacidad de manejar conjuntos de datos más grandes, lo que puede ralentizar la generación de informes.\n",
    "\n",
    "### Cómo utilizar la biblioteca de YData Profiling\n",
    "\n",
    "YData Profiling se puede instalar a través de una terminal usando pip:"
   ]
  },
  {
   "cell_type": "code",
   "execution_count": null,
   "metadata": {
    "colab": {
     "base_uri": "https://localhost:8080/"
    },
    "executionInfo": {
     "elapsed": 35435,
     "status": "ok",
     "timestamp": 1694037702247,
     "user": {
      "displayName": "WALTER DIAZ",
      "userId": "00011065094994883854"
     },
     "user_tz": 300
    },
    "id": "OQC8R5zzbP1P",
    "outputId": "d295ddf7-4b87-4ff8-b19c-8161dcdac77a"
   },
   "outputs": [],
   "source": [
    "!pip install ydata-profiling"
   ]
  },
  {
   "cell_type": "markdown",
   "metadata": {
    "id": "bvCU7RgXcy9x"
   },
   "source": [
    "Una vez que la biblioteca se haya instalado en su entorno Python, podemos simplemente importar el modulo `ProfileReport` desde la biblioteca junto con pandas. \n",
    "\n",
    "Pandas sirve para cargar nuestros datos desde un archivo CSV u otro formato."
   ]
  },
  {
   "cell_type": "code",
   "execution_count": null,
   "metadata": {
    "colab": {
     "base_uri": "https://localhost:8080/",
     "height": 946,
     "output_embedded_package_id": "1c80wlwSx_5HNY4w9LVb3043jwogqe-6Q",
     "referenced_widgets": [
      "344c8d4b5838442e890b52dba7df545a",
      "e91d319cac424d96995e48d5e3e33746",
      "f9d80be9ce3642de9c7ff47e0a3c170f",
      "3ca1b6862a5c4c64abc1b33cece569ca",
      "200fd9e5c24c4821ba3f12d71013b990",
      "9b19ec21743e4adaa2ee52989f1e7149",
      "7e7b3271fee34fa0911bb77ac03e72fe",
      "a10f83c705eb43bc9b399bbf70c2cfb0",
      "170d0e21995e40f680b38961a06ab550",
      "701c0f33158b452f881c52d851f329a1",
      "fc8edb42e11f4a7b85ab6f822e20de96",
      "dc7a2d5e4bff44be924f0e26aacef480",
      "c357225f13b44ad1a91779198e65d0dd",
      "8fd3972f6d614c22a2603ce6a7f60c0e",
      "422c1e9228e646f096202209165d91a4",
      "476addb480124a1f841d1bc980b75a24",
      "e8b6d15ee23f42699d311a6880cd2915",
      "fe20cfc59cbd4065aecda7ba32928a51",
      "f923a636c20a43cca787ec588d559535",
      "ef01a1b1ac134b98abd68de2db6e26fb",
      "56e4ab6c339b461c884b4c7bf980babe",
      "764da097386e488b8d6f4ad9118dea14",
      "770415d3a85e4182add9f6fdcfefbc45",
      "2a81645eeba94763bed8b1ec1844f207",
      "e5e81834b92743a7b30106e49f3f8442",
      "f3bac07c449a457ab94fed1ecbb69049",
      "942cb722e03b4883b78b20f9b7f3ccac",
      "2fecf4b80b7642e58ff322c62e926dba",
      "ba79245e04fe4c0e8eb05e6bfb2812ba",
      "bade821dc11243779d91cc9aaf63d48d",
      "d938d7dce6c64e0db5461e9cdfcd1fed",
      "abf0171744d24c8295b88fc42c7e1093",
      "0c9690b2fe154c09b14aa84aa60b5dc5"
     ]
    },
    "executionInfo": {
     "elapsed": 36770,
     "status": "ok",
     "timestamp": 1694037776821,
     "user": {
      "displayName": "WALTER DIAZ",
      "userId": "00011065094994883854"
     },
     "user_tz": 300
    },
    "id": "1GaZLkxQbSpE",
    "outputId": "80612eba-2ee4-4af7-cb96-99c458c29317"
   },
   "outputs": [],
   "source": [
    "import pandas as pd\n",
    "from ydata_profiling import ProfileReport\n",
    "\n",
    "df = pd.read_csv('titanic.csv')\n",
    "ProfileReport(df)"
   ]
  },
  {
   "cell_type": "markdown",
   "metadata": {
    "id": "4uQKT1NKdSho"
   },
   "source": [
    "## D-Tale\n",
    "\n",
    "D-Tale lleva tu dataframe de Pandas a un nivel completamente nuevo. Esta biblioteca potente y rápida hace que sea muy fácil interactuar con sus datos, realizar análisis básicos e incluso editarlos.\n",
    "\n",
    "Recientemente encontré esta biblioteca, pero se ha convertido en una de mis bibliotecas preferidas para explorar datos.\n",
    "\n",
    "Si desea probar la biblioteca antes de descargarla, los autores de la biblioteca le han proporcionado un ejemplo en vivo .\n",
    "\n",
    "### Cómo utilizar D-Tale\n",
    "\n",
    "D-Tale se puede instalar a través de una terminal usando pip:"
   ]
  },
  {
   "cell_type": "code",
   "execution_count": null,
   "metadata": {
    "colab": {
     "base_uri": "https://localhost:8080/"
    },
    "executionInfo": {
     "elapsed": 6718,
     "status": "ok",
     "timestamp": 1694038123093,
     "user": {
      "displayName": "WALTER DIAZ",
      "userId": "00011065094994883854"
     },
     "user_tz": 300
    },
    "id": "PlMRN3YybU5C",
    "outputId": "78f9f0a5-a25a-4699-a69f-809bbb5b4a53"
   },
   "outputs": [],
   "source": [
    "!pip install dtale"
   ]
  },
  {
   "cell_type": "markdown",
   "metadata": {
    "id": "BjbqmYOFdd4j"
   },
   "source": [
    "Luego se puede importar junto con los pandas, como se ve a continuación. Una vez que pandas ha leído los datos, el dataframe resultante se puede pasar `dtale.show()`"
   ]
  },
  {
   "cell_type": "code",
   "execution_count": null,
   "metadata": {
    "colab": {
     "base_uri": "https://localhost:8080/"
    },
    "executionInfo": {
     "elapsed": 1902,
     "status": "ok",
     "timestamp": 1694038139790,
     "user": {
      "displayName": "WALTER DIAZ",
      "userId": "00011065094994883854"
     },
     "user_tz": 300
    },
    "id": "8EIG1EvYbYkj",
    "outputId": "2de66468-3407-425c-d000-fc7faa4c014b"
   },
   "outputs": [],
   "source": [
    "import pandas as pd\n",
    "import dtale\n",
    "\n",
    "df = pd.read_csv('titanic.csv')\n",
    "\n",
    "dtale.show(df)"
   ]
  },
  {
   "cell_type": "markdown",
   "metadata": {
    "id": "MwUjx88fdlLP"
   },
   "source": [
    "## SweetViz\n",
    "\n",
    "SweetViz es otra biblioteca de exploración y visualización de datos interactiva y de bajo código. A partir de un par de líneas de código, podemos crear un archivo HTML interactivo para explorar nuestros datos.\n",
    "\n",
    "### Cómo utilizar SweetViz\n",
    "\n",
    "Sweetviz se puede instalar a través del terminal usando pip:"
   ]
  },
  {
   "cell_type": "code",
   "execution_count": null,
   "metadata": {
    "colab": {
     "base_uri": "https://localhost:8080/"
    },
    "executionInfo": {
     "elapsed": 13120,
     "status": "ok",
     "timestamp": 1694038272738,
     "user": {
      "displayName": "WALTER DIAZ",
      "userId": "00011065094994883854"
     },
     "user_tz": 300
    },
    "id": "r2OClaRvbcRH",
    "outputId": "df7e5e39-86a7-4ca9-f38d-f5befe41b5e3"
   },
   "outputs": [],
   "source": [
    "!pip install sweetviz"
   ]
  },
  {
   "cell_type": "markdown",
   "metadata": {
    "id": "XWj9LW6xds5U"
   },
   "source": [
    "Una vez instalado, podemos importarlo a nuestro cuaderno y cargar nuestros datos usando pandas."
   ]
  },
  {
   "cell_type": "code",
   "execution_count": null,
   "metadata": {
    "executionInfo": {
     "elapsed": 4,
     "status": "ok",
     "timestamp": 1694038275255,
     "user": {
      "displayName": "WALTER DIAZ",
      "userId": "00011065094994883854"
     },
     "user_tz": 300
    },
    "id": "xwZOq1xebfVZ"
   },
   "outputs": [],
   "source": [
    "import sweetviz as sv\n",
    "import pandas as pd\n",
    "\n",
    "df = pd.read_csv('titanic.csv')"
   ]
  },
  {
   "cell_type": "markdown",
   "metadata": {
    "id": "jhHLtbKKdxF7"
   },
   "source": [
    "Luego necesitamos recurrir a dos líneas más de código para poder obtener nuestro informe:"
   ]
  },
  {
   "cell_type": "code",
   "execution_count": null,
   "metadata": {
    "colab": {
     "base_uri": "https://localhost:8080/",
     "height": 86,
     "referenced_widgets": [
      "229a532457754c43901f3399631dbf3c",
      "e39a229c66194cb3905db8182b25285d",
      "3b43ba6722fc4eb99e892a476b92dd60",
      "979d90bae50f40d18a64af0b82e83f35",
      "0ae7da4e49cb4328a561b432cc74882f",
      "bef25ad96a6e4185813904906dc46edd",
      "177509d5a346407598c3d6d22c6d4a3b",
      "d9ed337615ab4739967e749d414c3858",
      "490d9ff1e32944fe987966e24c9c9430",
      "2a87f8b7e9ef44f4a4c67e7f9d04fa45",
      "30241bf43e404c88b07840b3b4a891a7"
     ]
    },
    "executionInfo": {
     "elapsed": 11249,
     "status": "ok",
     "timestamp": 1694038295574,
     "user": {
      "displayName": "WALTER DIAZ",
      "userId": "00011065094994883854"
     },
     "user_tz": 300
    },
    "id": "zX85uzvQbhxF",
    "outputId": "aa52d630-352c-4846-8f89-0efe4995dfde"
   },
   "outputs": [],
   "source": [
    "report = sv.analyze(df)\n",
    "report.show_html()"
   ]
  },
  {
   "cell_type": "markdown",
   "metadata": {
    "id": "shBpEd5pd0iJ"
   },
   "source": [
    "## MissingNo\n",
    "\n",
    "Si está interesado en utilizar una biblioteca liviana para explorar la integridad de sus datos, entonces `missingNo` es una que definitivamente debería considerar para su caja de herramientas EDA.\n",
    "\n",
    "Es una biblioteca de Python que proporciona una serie de visualizaciones para comprender la presencia y distribución de datos faltantes dentro de un dataframe de pandas. La biblioteca le proporciona una pequeña cantidad de gráficos (diagrama de barras, diagrama de matriz, mapa de calor o dendrograma) para visualizar qué columnas en su marco de datos contienen valores faltantes y cómo se relaciona el grado de falta entre las variables.\n",
    "\n",
    "### Cómo utilizar MissingNo\n",
    "\n",
    "Missingno se puede instalar a través del terminal usando pip:"
   ]
  },
  {
   "cell_type": "code",
   "execution_count": null,
   "metadata": {
    "colab": {
     "base_uri": "https://localhost:8080/"
    },
    "executionInfo": {
     "elapsed": 7380,
     "status": "ok",
     "timestamp": 1694038353422,
     "user": {
      "displayName": "WALTER DIAZ",
      "userId": "00011065094994883854"
     },
     "user_tz": 300
    },
    "id": "a6eMeiUxbjlt",
    "outputId": "b7d73c6d-a5ad-4464-cc66-34e4bfaa5c77"
   },
   "outputs": [],
   "source": [
    "!pip install missingno"
   ]
  },
  {
   "cell_type": "markdown",
   "metadata": {
    "id": "jasm0D-NeE5X"
   },
   "source": [
    "Una vez instalada la biblioteca, podemos importarla junto con pandas y cargar nuestros datos en un dataframe."
   ]
  },
  {
   "cell_type": "code",
   "execution_count": null,
   "metadata": {
    "executionInfo": {
     "elapsed": 5,
     "status": "ok",
     "timestamp": 1694038356005,
     "user": {
      "displayName": "WALTER DIAZ",
      "userId": "00011065094994883854"
     },
     "user_tz": 300
    },
    "id": "u71Vo5ljbnEH"
   },
   "outputs": [],
   "source": [
    "import pandas as pd\n",
    "import missingno as msno\n",
    "df = pd.read_csv('titanic.csv')"
   ]
  },
  {
   "cell_type": "markdown",
   "metadata": {
    "id": "LgzTZKxmeKUC"
   },
   "source": [
    "Luego podemos recurrir a nuestra gráfica deseada entre las disponibles:"
   ]
  },
  {
   "cell_type": "code",
   "execution_count": null,
   "metadata": {
    "colab": {
     "base_uri": "https://localhost:8080/",
     "height": 1000
    },
    "executionInfo": {
     "elapsed": 4252,
     "status": "ok",
     "timestamp": 1694038429686,
     "user": {
      "displayName": "WALTER DIAZ",
      "userId": "00011065094994883854"
     },
     "user_tz": 300
    },
    "id": "50HHflhGbqhd",
    "outputId": "7e4870b0-7179-429a-dd06-3939a1924c97"
   },
   "outputs": [],
   "source": [
    "msno.bar(df)\n",
    "msno.matrix(df)\n",
    "msno.heatmap(df);"
   ]
  },
  {
   "cell_type": "markdown",
   "metadata": {
    "id": "Jwe5GuVfeRym"
   },
   "source": [
    "Los tres gráficos anteriores nos brindan información sobre:\n",
    "\n",
    "- Qué tan completa está cada columna dentro del dataframe:msno.bar()\n",
    "- Donde ocurren los datos faltantes:msno.matrix()\n",
    "- ¿Qué tan correlacionados están los valores faltantes? msno.heatmap()\n",
    "\n",
    "Lo bueno de esta biblioteca es que los gráficos son limpios, fáciles de entender y pueden incorporarse rápidamente a un informe tal como están.\n",
    "\n",
    "Para comprender más sobre cada una de estas tramas, recomiendo profundizar en el artículo a continuación."
   ]
  },
  {
   "cell_type": "markdown",
   "metadata": {
    "id": "2r9ESLaJeu_t"
   },
   "source": [
    "## Sketch\n",
    "\n",
    "Sketch es una biblioteca muy nueva (a partir de febrero de 2023) que aprovecha el poder de la inteligencia artificial para ayudarlo a comprender los marcos de datos de sus pandas mediante el uso de preguntas en lenguaje natural directamente dentro de Jupyter. También puede usarlo para generar código de muestra, por ejemplo, cómo hacer un gráfico de x e y dentro del dataframe, y luego usar ese código para generar el gráfico requerido.\n",
    "\n",
    "La biblioteca es mayoritariamente autónoma y utiliza algoritmos de aprendizaje automático para comprender el contexto de su pregunta en relación con su conjunto de datos. Hay una función que depende de la API de OpenAI, pero eso no resta valor a cómo se puede utilizar la biblioteca.\n",
    "\n",
    "Sketch tiene un gran potencial para ser poderoso, especialmente si busca proporcionar una interfaz a clientes con conocimientos muy limitados de codificación en Python.\n",
    "\n",
    "### Cómo utilizar Sketch\n",
    "\n",
    "Sketch se puede instalar a través del terminal usando pip:"
   ]
  },
  {
   "cell_type": "code",
   "execution_count": null,
   "metadata": {
    "colab": {
     "base_uri": "https://localhost:8080/"
    },
    "executionInfo": {
     "elapsed": 9832,
     "status": "ok",
     "timestamp": 1694038496780,
     "user": {
      "displayName": "WALTER DIAZ",
      "userId": "00011065094994883854"
     },
     "user_tz": 300
    },
    "id": "rDS2jQZ8bsS4",
    "outputId": "fad4afd0-b8f3-480c-bece-38571755c8a4"
   },
   "outputs": [],
   "source": [
    "!pip install sketch"
   ]
  },
  {
   "cell_type": "markdown",
   "metadata": {
    "id": "ZoaZN-X7e-np"
   },
   "source": [
    "Luego importamos pandas y dibujamos en nuestro cuaderno, seguido de cargar los datos de nuestro archivo CSV."
   ]
  },
  {
   "cell_type": "code",
   "execution_count": null,
   "metadata": {
    "executionInfo": {
     "elapsed": 490,
     "status": "ok",
     "timestamp": 1694038500160,
     "user": {
      "displayName": "WALTER DIAZ",
      "userId": "00011065094994883854"
     },
     "user_tz": 300
    },
    "id": "z8xV9pITbwwX"
   },
   "outputs": [],
   "source": [
    "import sketch\n",
    "import pandas as pd\n",
    "\n",
    "df = pd.read_csv('titanic.csv')"
   ]
  },
  {
   "cell_type": "markdown",
   "metadata": {
    "id": "mSZi7bUVfD9w"
   },
   "source": [
    "Una vez que se haya importado el sketch, estarán disponibles tres nuevos métodos para nuestro dataframe.\n",
    "\n",
    "El primero es el metodo `.ask`, que le permite hacer preguntas, utilizando lenguaje natural, sobre el contenido del marco de datos."
   ]
  },
  {
   "cell_type": "code",
   "execution_count": null,
   "metadata": {
    "colab": {
     "base_uri": "https://localhost:8080/",
     "height": 34
    },
    "executionInfo": {
     "elapsed": 2959,
     "status": "ok",
     "timestamp": 1694038512599,
     "user": {
      "displayName": "WALTER DIAZ",
      "userId": "00011065094994883854"
     },
     "user_tz": 300
    },
    "id": "UOBM3IU6bxYV",
    "outputId": "1090e089-4406-4553-8be6-665fb7661121"
   },
   "outputs": [],
   "source": [
    "df.sketch.ask('What are the max values of each numerical column?')"
   ]
  },
  {
   "cell_type": "markdown",
   "metadata": {
    "id": "7iMNCt3NfTuj"
   },
   "source": [
    "También podemos preguntarle qué tan completo está el dataframe:"
   ]
  },
  {
   "cell_type": "code",
   "execution_count": null,
   "metadata": {
    "colab": {
     "base_uri": "https://localhost:8080/",
     "height": 69
    },
    "executionInfo": {
     "elapsed": 1983,
     "status": "ok",
     "timestamp": 1694038524560,
     "user": {
      "displayName": "WALTER DIAZ",
      "userId": "00011065094994883854"
     },
     "user_tz": 300
    },
    "id": "r81Ka21qbz4h",
    "outputId": "ae8b18ed-5a83-4fc9-df40-8cfc11852b9c"
   },
   "outputs": [],
   "source": [
    "df.sketch.ask('How complete is the data?')"
   ]
  },
  {
   "cell_type": "markdown",
   "metadata": {
    "id": "CpKXS1sifasC"
   },
   "source": [
    "Muy impresionante. Pero eso no es todo.\n",
    "\n",
    "Incluso podemos consultar a la biblioteca sobre cómo gráficar los datos contenidos dentro del dataframe usando `sketch.howto()`"
   ]
  },
  {
   "cell_type": "code",
   "execution_count": null,
   "metadata": {
    "colab": {
     "base_uri": "https://localhost:8080/",
     "height": 138
    },
    "executionInfo": {
     "elapsed": 3449,
     "status": "ok",
     "timestamp": 1694038617670,
     "user": {
      "displayName": "WALTER DIAZ",
      "userId": "00011065094994883854"
     },
     "user_tz": 300
    },
    "id": "rKVFQwb7b2Sd",
    "outputId": "1384f4ea-defa-4090-f356-270876cb500a"
   },
   "outputs": [],
   "source": [
    "df.sketch.howto(\"\"\"How do I plot Pclass against Fare\n",
    "                using a bar plot and have the line coloured in red?\"\"\")"
   ]
  },
  {
   "cell_type": "markdown",
   "metadata": {
    "id": "L_29_OKhfmuN"
   },
   "source": [
    "La tercera opción disponible con sketch es el método `.apply`, que requiere una API OpenAI para poder ejecutarse. Esta función es útil cuando queremos crear nuevas funciones a partir de funciones existentes o generar otras nuevas. Hasta el momento no he explorado esta opción, pero espero hacerlo en un futuro próximo."
   ]
  },
  {
   "cell_type": "code",
   "execution_count": null,
   "metadata": {
    "id": "duqDX1Blb6S7"
   },
   "outputs": [],
   "source": []
  }
 ],
 "metadata": {
  "colab": {
   "authorship_tag": "ABX9TyPu24vm9qR9UQ4x9tsKiU60",
   "provenance": []
  },
  "kernelspec": {
   "display_name": "Python 3 (ipykernel)",
   "language": "python",
   "name": "python3"
  },
  "language_info": {
   "codemirror_mode": {
    "name": "ipython",
    "version": 3
   },
   "file_extension": ".py",
   "mimetype": "text/x-python",
   "name": "python",
   "nbconvert_exporter": "python",
   "pygments_lexer": "ipython3",
   "version": "3.10.12"
  },
  "widgets": {
   "application/vnd.jupyter.widget-state+json": {
    "0ae7da4e49cb4328a561b432cc74882f": {
     "model_module": "@jupyter-widgets/base",
     "model_module_version": "1.2.0",
     "model_name": "LayoutModel",
     "state": {
      "_model_module": "@jupyter-widgets/base",
      "_model_module_version": "1.2.0",
      "_model_name": "LayoutModel",
      "_view_count": null,
      "_view_module": "@jupyter-widgets/base",
      "_view_module_version": "1.2.0",
      "_view_name": "LayoutView",
      "align_content": null,
      "align_items": null,
      "align_self": null,
      "border": null,
      "bottom": null,
      "display": "inline-flex",
      "flex": null,
      "flex_flow": "row wrap",
      "grid_area": null,
      "grid_auto_columns": null,
      "grid_auto_flow": null,
      "grid_auto_rows": null,
      "grid_column": null,
      "grid_gap": null,
      "grid_row": null,
      "grid_template_areas": null,
      "grid_template_columns": null,
      "grid_template_rows": null,
      "height": null,
      "justify_content": null,
      "justify_items": null,
      "left": null,
      "margin": null,
      "max_height": null,
      "max_width": null,
      "min_height": null,
      "min_width": null,
      "object_fit": null,
      "object_position": null,
      "order": null,
      "overflow": null,
      "overflow_x": null,
      "overflow_y": null,
      "padding": null,
      "right": null,
      "top": null,
      "visibility": null,
      "width": "100%"
     }
    },
    "0c9690b2fe154c09b14aa84aa60b5dc5": {
     "model_module": "@jupyter-widgets/controls",
     "model_module_version": "1.5.0",
     "model_name": "DescriptionStyleModel",
     "state": {
      "_model_module": "@jupyter-widgets/controls",
      "_model_module_version": "1.5.0",
      "_model_name": "DescriptionStyleModel",
      "_view_count": null,
      "_view_module": "@jupyter-widgets/base",
      "_view_module_version": "1.2.0",
      "_view_name": "StyleView",
      "description_width": ""
     }
    },
    "170d0e21995e40f680b38961a06ab550": {
     "model_module": "@jupyter-widgets/controls",
     "model_module_version": "1.5.0",
     "model_name": "ProgressStyleModel",
     "state": {
      "_model_module": "@jupyter-widgets/controls",
      "_model_module_version": "1.5.0",
      "_model_name": "ProgressStyleModel",
      "_view_count": null,
      "_view_module": "@jupyter-widgets/base",
      "_view_module_version": "1.2.0",
      "_view_name": "StyleView",
      "bar_color": null,
      "description_width": ""
     }
    },
    "177509d5a346407598c3d6d22c6d4a3b": {
     "model_module": "@jupyter-widgets/controls",
     "model_module_version": "1.5.0",
     "model_name": "DescriptionStyleModel",
     "state": {
      "_model_module": "@jupyter-widgets/controls",
      "_model_module_version": "1.5.0",
      "_model_name": "DescriptionStyleModel",
      "_view_count": null,
      "_view_module": "@jupyter-widgets/base",
      "_view_module_version": "1.2.0",
      "_view_name": "StyleView",
      "description_width": ""
     }
    },
    "200fd9e5c24c4821ba3f12d71013b990": {
     "model_module": "@jupyter-widgets/base",
     "model_module_version": "1.2.0",
     "model_name": "LayoutModel",
     "state": {
      "_model_module": "@jupyter-widgets/base",
      "_model_module_version": "1.2.0",
      "_model_name": "LayoutModel",
      "_view_count": null,
      "_view_module": "@jupyter-widgets/base",
      "_view_module_version": "1.2.0",
      "_view_name": "LayoutView",
      "align_content": null,
      "align_items": null,
      "align_self": null,
      "border": null,
      "bottom": null,
      "display": null,
      "flex": null,
      "flex_flow": null,
      "grid_area": null,
      "grid_auto_columns": null,
      "grid_auto_flow": null,
      "grid_auto_rows": null,
      "grid_column": null,
      "grid_gap": null,
      "grid_row": null,
      "grid_template_areas": null,
      "grid_template_columns": null,
      "grid_template_rows": null,
      "height": null,
      "justify_content": null,
      "justify_items": null,
      "left": null,
      "margin": null,
      "max_height": null,
      "max_width": null,
      "min_height": null,
      "min_width": null,
      "object_fit": null,
      "object_position": null,
      "order": null,
      "overflow": null,
      "overflow_x": null,
      "overflow_y": null,
      "padding": null,
      "right": null,
      "top": null,
      "visibility": null,
      "width": null
     }
    },
    "229a532457754c43901f3399631dbf3c": {
     "model_module": "@jupyter-widgets/controls",
     "model_module_version": "1.5.0",
     "model_name": "HBoxModel",
     "state": {
      "_dom_classes": [],
      "_model_module": "@jupyter-widgets/controls",
      "_model_module_version": "1.5.0",
      "_model_name": "HBoxModel",
      "_view_count": null,
      "_view_module": "@jupyter-widgets/controls",
      "_view_module_version": "1.5.0",
      "_view_name": "HBoxView",
      "box_style": "",
      "children": [
       "IPY_MODEL_e39a229c66194cb3905db8182b25285d",
       "IPY_MODEL_3b43ba6722fc4eb99e892a476b92dd60",
       "IPY_MODEL_979d90bae50f40d18a64af0b82e83f35"
      ],
      "layout": "IPY_MODEL_0ae7da4e49cb4328a561b432cc74882f"
     }
    },
    "2a81645eeba94763bed8b1ec1844f207": {
     "model_module": "@jupyter-widgets/controls",
     "model_module_version": "1.5.0",
     "model_name": "HTMLModel",
     "state": {
      "_dom_classes": [],
      "_model_module": "@jupyter-widgets/controls",
      "_model_module_version": "1.5.0",
      "_model_name": "HTMLModel",
      "_view_count": null,
      "_view_module": "@jupyter-widgets/controls",
      "_view_module_version": "1.5.0",
      "_view_name": "HTMLView",
      "description": "",
      "description_tooltip": null,
      "layout": "IPY_MODEL_2fecf4b80b7642e58ff322c62e926dba",
      "placeholder": "​",
      "style": "IPY_MODEL_ba79245e04fe4c0e8eb05e6bfb2812ba",
      "value": "Render HTML: 100%"
     }
    },
    "2a87f8b7e9ef44f4a4c67e7f9d04fa45": {
     "model_module": "@jupyter-widgets/base",
     "model_module_version": "1.2.0",
     "model_name": "LayoutModel",
     "state": {
      "_model_module": "@jupyter-widgets/base",
      "_model_module_version": "1.2.0",
      "_model_name": "LayoutModel",
      "_view_count": null,
      "_view_module": "@jupyter-widgets/base",
      "_view_module_version": "1.2.0",
      "_view_name": "LayoutView",
      "align_content": null,
      "align_items": null,
      "align_self": null,
      "border": null,
      "bottom": null,
      "display": null,
      "flex": null,
      "flex_flow": null,
      "grid_area": null,
      "grid_auto_columns": null,
      "grid_auto_flow": null,
      "grid_auto_rows": null,
      "grid_column": null,
      "grid_gap": null,
      "grid_row": null,
      "grid_template_areas": null,
      "grid_template_columns": null,
      "grid_template_rows": null,
      "height": null,
      "justify_content": null,
      "justify_items": null,
      "left": null,
      "margin": null,
      "max_height": null,
      "max_width": null,
      "min_height": null,
      "min_width": null,
      "object_fit": null,
      "object_position": null,
      "order": null,
      "overflow": null,
      "overflow_x": null,
      "overflow_y": null,
      "padding": null,
      "right": null,
      "top": null,
      "visibility": null,
      "width": null
     }
    },
    "2fecf4b80b7642e58ff322c62e926dba": {
     "model_module": "@jupyter-widgets/base",
     "model_module_version": "1.2.0",
     "model_name": "LayoutModel",
     "state": {
      "_model_module": "@jupyter-widgets/base",
      "_model_module_version": "1.2.0",
      "_model_name": "LayoutModel",
      "_view_count": null,
      "_view_module": "@jupyter-widgets/base",
      "_view_module_version": "1.2.0",
      "_view_name": "LayoutView",
      "align_content": null,
      "align_items": null,
      "align_self": null,
      "border": null,
      "bottom": null,
      "display": null,
      "flex": null,
      "flex_flow": null,
      "grid_area": null,
      "grid_auto_columns": null,
      "grid_auto_flow": null,
      "grid_auto_rows": null,
      "grid_column": null,
      "grid_gap": null,
      "grid_row": null,
      "grid_template_areas": null,
      "grid_template_columns": null,
      "grid_template_rows": null,
      "height": null,
      "justify_content": null,
      "justify_items": null,
      "left": null,
      "margin": null,
      "max_height": null,
      "max_width": null,
      "min_height": null,
      "min_width": null,
      "object_fit": null,
      "object_position": null,
      "order": null,
      "overflow": null,
      "overflow_x": null,
      "overflow_y": null,
      "padding": null,
      "right": null,
      "top": null,
      "visibility": null,
      "width": null
     }
    },
    "30241bf43e404c88b07840b3b4a891a7": {
     "model_module": "@jupyter-widgets/controls",
     "model_module_version": "1.5.0",
     "model_name": "DescriptionStyleModel",
     "state": {
      "_model_module": "@jupyter-widgets/controls",
      "_model_module_version": "1.5.0",
      "_model_name": "DescriptionStyleModel",
      "_view_count": null,
      "_view_module": "@jupyter-widgets/base",
      "_view_module_version": "1.2.0",
      "_view_name": "StyleView",
      "description_width": ""
     }
    },
    "344c8d4b5838442e890b52dba7df545a": {
     "model_module": "@jupyter-widgets/controls",
     "model_module_version": "1.5.0",
     "model_name": "HBoxModel",
     "state": {
      "_dom_classes": [],
      "_model_module": "@jupyter-widgets/controls",
      "_model_module_version": "1.5.0",
      "_model_name": "HBoxModel",
      "_view_count": null,
      "_view_module": "@jupyter-widgets/controls",
      "_view_module_version": "1.5.0",
      "_view_name": "HBoxView",
      "box_style": "",
      "children": [
       "IPY_MODEL_e91d319cac424d96995e48d5e3e33746",
       "IPY_MODEL_f9d80be9ce3642de9c7ff47e0a3c170f",
       "IPY_MODEL_3ca1b6862a5c4c64abc1b33cece569ca"
      ],
      "layout": "IPY_MODEL_200fd9e5c24c4821ba3f12d71013b990"
     }
    },
    "3b43ba6722fc4eb99e892a476b92dd60": {
     "model_module": "@jupyter-widgets/controls",
     "model_module_version": "1.5.0",
     "model_name": "FloatProgressModel",
     "state": {
      "_dom_classes": [],
      "_model_module": "@jupyter-widgets/controls",
      "_model_module_version": "1.5.0",
      "_model_name": "FloatProgressModel",
      "_view_count": null,
      "_view_module": "@jupyter-widgets/controls",
      "_view_module_version": "1.5.0",
      "_view_name": "ProgressView",
      "bar_style": "success",
      "description": "",
      "description_tooltip": null,
      "layout": "IPY_MODEL_d9ed337615ab4739967e749d414c3858",
      "max": 1,
      "min": 0,
      "orientation": "horizontal",
      "style": "IPY_MODEL_490d9ff1e32944fe987966e24c9c9430",
      "value": 1
     }
    },
    "3ca1b6862a5c4c64abc1b33cece569ca": {
     "model_module": "@jupyter-widgets/controls",
     "model_module_version": "1.5.0",
     "model_name": "HTMLModel",
     "state": {
      "_dom_classes": [],
      "_model_module": "@jupyter-widgets/controls",
      "_model_module_version": "1.5.0",
      "_model_name": "HTMLModel",
      "_view_count": null,
      "_view_module": "@jupyter-widgets/controls",
      "_view_module_version": "1.5.0",
      "_view_name": "HTMLView",
      "description": "",
      "description_tooltip": null,
      "layout": "IPY_MODEL_701c0f33158b452f881c52d851f329a1",
      "placeholder": "​",
      "style": "IPY_MODEL_fc8edb42e11f4a7b85ab6f822e20de96",
      "value": " 47/47 [00:11&lt;00:00,  2.15it/s, Completed]"
     }
    },
    "422c1e9228e646f096202209165d91a4": {
     "model_module": "@jupyter-widgets/controls",
     "model_module_version": "1.5.0",
     "model_name": "HTMLModel",
     "state": {
      "_dom_classes": [],
      "_model_module": "@jupyter-widgets/controls",
      "_model_module_version": "1.5.0",
      "_model_name": "HTMLModel",
      "_view_count": null,
      "_view_module": "@jupyter-widgets/controls",
      "_view_module_version": "1.5.0",
      "_view_name": "HTMLView",
      "description": "",
      "description_tooltip": null,
      "layout": "IPY_MODEL_56e4ab6c339b461c884b4c7bf980babe",
      "placeholder": "​",
      "style": "IPY_MODEL_764da097386e488b8d6f4ad9118dea14",
      "value": " 1/1 [00:12&lt;00:00, 12.75s/it]"
     }
    },
    "476addb480124a1f841d1bc980b75a24": {
     "model_module": "@jupyter-widgets/base",
     "model_module_version": "1.2.0",
     "model_name": "LayoutModel",
     "state": {
      "_model_module": "@jupyter-widgets/base",
      "_model_module_version": "1.2.0",
      "_model_name": "LayoutModel",
      "_view_count": null,
      "_view_module": "@jupyter-widgets/base",
      "_view_module_version": "1.2.0",
      "_view_name": "LayoutView",
      "align_content": null,
      "align_items": null,
      "align_self": null,
      "border": null,
      "bottom": null,
      "display": null,
      "flex": null,
      "flex_flow": null,
      "grid_area": null,
      "grid_auto_columns": null,
      "grid_auto_flow": null,
      "grid_auto_rows": null,
      "grid_column": null,
      "grid_gap": null,
      "grid_row": null,
      "grid_template_areas": null,
      "grid_template_columns": null,
      "grid_template_rows": null,
      "height": null,
      "justify_content": null,
      "justify_items": null,
      "left": null,
      "margin": null,
      "max_height": null,
      "max_width": null,
      "min_height": null,
      "min_width": null,
      "object_fit": null,
      "object_position": null,
      "order": null,
      "overflow": null,
      "overflow_x": null,
      "overflow_y": null,
      "padding": null,
      "right": null,
      "top": null,
      "visibility": null,
      "width": null
     }
    },
    "490d9ff1e32944fe987966e24c9c9430": {
     "model_module": "@jupyter-widgets/controls",
     "model_module_version": "1.5.0",
     "model_name": "ProgressStyleModel",
     "state": {
      "_model_module": "@jupyter-widgets/controls",
      "_model_module_version": "1.5.0",
      "_model_name": "ProgressStyleModel",
      "_view_count": null,
      "_view_module": "@jupyter-widgets/base",
      "_view_module_version": "1.2.0",
      "_view_name": "StyleView",
      "bar_color": null,
      "description_width": ""
     }
    },
    "56e4ab6c339b461c884b4c7bf980babe": {
     "model_module": "@jupyter-widgets/base",
     "model_module_version": "1.2.0",
     "model_name": "LayoutModel",
     "state": {
      "_model_module": "@jupyter-widgets/base",
      "_model_module_version": "1.2.0",
      "_model_name": "LayoutModel",
      "_view_count": null,
      "_view_module": "@jupyter-widgets/base",
      "_view_module_version": "1.2.0",
      "_view_name": "LayoutView",
      "align_content": null,
      "align_items": null,
      "align_self": null,
      "border": null,
      "bottom": null,
      "display": null,
      "flex": null,
      "flex_flow": null,
      "grid_area": null,
      "grid_auto_columns": null,
      "grid_auto_flow": null,
      "grid_auto_rows": null,
      "grid_column": null,
      "grid_gap": null,
      "grid_row": null,
      "grid_template_areas": null,
      "grid_template_columns": null,
      "grid_template_rows": null,
      "height": null,
      "justify_content": null,
      "justify_items": null,
      "left": null,
      "margin": null,
      "max_height": null,
      "max_width": null,
      "min_height": null,
      "min_width": null,
      "object_fit": null,
      "object_position": null,
      "order": null,
      "overflow": null,
      "overflow_x": null,
      "overflow_y": null,
      "padding": null,
      "right": null,
      "top": null,
      "visibility": null,
      "width": null
     }
    },
    "701c0f33158b452f881c52d851f329a1": {
     "model_module": "@jupyter-widgets/base",
     "model_module_version": "1.2.0",
     "model_name": "LayoutModel",
     "state": {
      "_model_module": "@jupyter-widgets/base",
      "_model_module_version": "1.2.0",
      "_model_name": "LayoutModel",
      "_view_count": null,
      "_view_module": "@jupyter-widgets/base",
      "_view_module_version": "1.2.0",
      "_view_name": "LayoutView",
      "align_content": null,
      "align_items": null,
      "align_self": null,
      "border": null,
      "bottom": null,
      "display": null,
      "flex": null,
      "flex_flow": null,
      "grid_area": null,
      "grid_auto_columns": null,
      "grid_auto_flow": null,
      "grid_auto_rows": null,
      "grid_column": null,
      "grid_gap": null,
      "grid_row": null,
      "grid_template_areas": null,
      "grid_template_columns": null,
      "grid_template_rows": null,
      "height": null,
      "justify_content": null,
      "justify_items": null,
      "left": null,
      "margin": null,
      "max_height": null,
      "max_width": null,
      "min_height": null,
      "min_width": null,
      "object_fit": null,
      "object_position": null,
      "order": null,
      "overflow": null,
      "overflow_x": null,
      "overflow_y": null,
      "padding": null,
      "right": null,
      "top": null,
      "visibility": null,
      "width": null
     }
    },
    "764da097386e488b8d6f4ad9118dea14": {
     "model_module": "@jupyter-widgets/controls",
     "model_module_version": "1.5.0",
     "model_name": "DescriptionStyleModel",
     "state": {
      "_model_module": "@jupyter-widgets/controls",
      "_model_module_version": "1.5.0",
      "_model_name": "DescriptionStyleModel",
      "_view_count": null,
      "_view_module": "@jupyter-widgets/base",
      "_view_module_version": "1.2.0",
      "_view_name": "StyleView",
      "description_width": ""
     }
    },
    "770415d3a85e4182add9f6fdcfefbc45": {
     "model_module": "@jupyter-widgets/controls",
     "model_module_version": "1.5.0",
     "model_name": "HBoxModel",
     "state": {
      "_dom_classes": [],
      "_model_module": "@jupyter-widgets/controls",
      "_model_module_version": "1.5.0",
      "_model_name": "HBoxModel",
      "_view_count": null,
      "_view_module": "@jupyter-widgets/controls",
      "_view_module_version": "1.5.0",
      "_view_name": "HBoxView",
      "box_style": "",
      "children": [
       "IPY_MODEL_2a81645eeba94763bed8b1ec1844f207",
       "IPY_MODEL_e5e81834b92743a7b30106e49f3f8442",
       "IPY_MODEL_f3bac07c449a457ab94fed1ecbb69049"
      ],
      "layout": "IPY_MODEL_942cb722e03b4883b78b20f9b7f3ccac"
     }
    },
    "7e7b3271fee34fa0911bb77ac03e72fe": {
     "model_module": "@jupyter-widgets/controls",
     "model_module_version": "1.5.0",
     "model_name": "DescriptionStyleModel",
     "state": {
      "_model_module": "@jupyter-widgets/controls",
      "_model_module_version": "1.5.0",
      "_model_name": "DescriptionStyleModel",
      "_view_count": null,
      "_view_module": "@jupyter-widgets/base",
      "_view_module_version": "1.2.0",
      "_view_name": "StyleView",
      "description_width": ""
     }
    },
    "8fd3972f6d614c22a2603ce6a7f60c0e": {
     "model_module": "@jupyter-widgets/controls",
     "model_module_version": "1.5.0",
     "model_name": "FloatProgressModel",
     "state": {
      "_dom_classes": [],
      "_model_module": "@jupyter-widgets/controls",
      "_model_module_version": "1.5.0",
      "_model_name": "FloatProgressModel",
      "_view_count": null,
      "_view_module": "@jupyter-widgets/controls",
      "_view_module_version": "1.5.0",
      "_view_name": "ProgressView",
      "bar_style": "success",
      "description": "",
      "description_tooltip": null,
      "layout": "IPY_MODEL_f923a636c20a43cca787ec588d559535",
      "max": 1,
      "min": 0,
      "orientation": "horizontal",
      "style": "IPY_MODEL_ef01a1b1ac134b98abd68de2db6e26fb",
      "value": 1
     }
    },
    "942cb722e03b4883b78b20f9b7f3ccac": {
     "model_module": "@jupyter-widgets/base",
     "model_module_version": "1.2.0",
     "model_name": "LayoutModel",
     "state": {
      "_model_module": "@jupyter-widgets/base",
      "_model_module_version": "1.2.0",
      "_model_name": "LayoutModel",
      "_view_count": null,
      "_view_module": "@jupyter-widgets/base",
      "_view_module_version": "1.2.0",
      "_view_name": "LayoutView",
      "align_content": null,
      "align_items": null,
      "align_self": null,
      "border": null,
      "bottom": null,
      "display": null,
      "flex": null,
      "flex_flow": null,
      "grid_area": null,
      "grid_auto_columns": null,
      "grid_auto_flow": null,
      "grid_auto_rows": null,
      "grid_column": null,
      "grid_gap": null,
      "grid_row": null,
      "grid_template_areas": null,
      "grid_template_columns": null,
      "grid_template_rows": null,
      "height": null,
      "justify_content": null,
      "justify_items": null,
      "left": null,
      "margin": null,
      "max_height": null,
      "max_width": null,
      "min_height": null,
      "min_width": null,
      "object_fit": null,
      "object_position": null,
      "order": null,
      "overflow": null,
      "overflow_x": null,
      "overflow_y": null,
      "padding": null,
      "right": null,
      "top": null,
      "visibility": null,
      "width": null
     }
    },
    "979d90bae50f40d18a64af0b82e83f35": {
     "model_module": "@jupyter-widgets/controls",
     "model_module_version": "1.5.0",
     "model_name": "HTMLModel",
     "state": {
      "_dom_classes": [],
      "_model_module": "@jupyter-widgets/controls",
      "_model_module_version": "1.5.0",
      "_model_name": "HTMLModel",
      "_view_count": null,
      "_view_module": "@jupyter-widgets/controls",
      "_view_module_version": "1.5.0",
      "_view_name": "HTMLView",
      "description": "",
      "description_tooltip": null,
      "layout": "IPY_MODEL_2a87f8b7e9ef44f4a4c67e7f9d04fa45",
      "placeholder": "​",
      "style": "IPY_MODEL_30241bf43e404c88b07840b3b4a891a7",
      "value": " [100%]   00:02 -&gt; (00:00 left)"
     }
    },
    "9b19ec21743e4adaa2ee52989f1e7149": {
     "model_module": "@jupyter-widgets/base",
     "model_module_version": "1.2.0",
     "model_name": "LayoutModel",
     "state": {
      "_model_module": "@jupyter-widgets/base",
      "_model_module_version": "1.2.0",
      "_model_name": "LayoutModel",
      "_view_count": null,
      "_view_module": "@jupyter-widgets/base",
      "_view_module_version": "1.2.0",
      "_view_name": "LayoutView",
      "align_content": null,
      "align_items": null,
      "align_self": null,
      "border": null,
      "bottom": null,
      "display": null,
      "flex": null,
      "flex_flow": null,
      "grid_area": null,
      "grid_auto_columns": null,
      "grid_auto_flow": null,
      "grid_auto_rows": null,
      "grid_column": null,
      "grid_gap": null,
      "grid_row": null,
      "grid_template_areas": null,
      "grid_template_columns": null,
      "grid_template_rows": null,
      "height": null,
      "justify_content": null,
      "justify_items": null,
      "left": null,
      "margin": null,
      "max_height": null,
      "max_width": null,
      "min_height": null,
      "min_width": null,
      "object_fit": null,
      "object_position": null,
      "order": null,
      "overflow": null,
      "overflow_x": null,
      "overflow_y": null,
      "padding": null,
      "right": null,
      "top": null,
      "visibility": null,
      "width": null
     }
    },
    "a10f83c705eb43bc9b399bbf70c2cfb0": {
     "model_module": "@jupyter-widgets/base",
     "model_module_version": "1.2.0",
     "model_name": "LayoutModel",
     "state": {
      "_model_module": "@jupyter-widgets/base",
      "_model_module_version": "1.2.0",
      "_model_name": "LayoutModel",
      "_view_count": null,
      "_view_module": "@jupyter-widgets/base",
      "_view_module_version": "1.2.0",
      "_view_name": "LayoutView",
      "align_content": null,
      "align_items": null,
      "align_self": null,
      "border": null,
      "bottom": null,
      "display": null,
      "flex": null,
      "flex_flow": null,
      "grid_area": null,
      "grid_auto_columns": null,
      "grid_auto_flow": null,
      "grid_auto_rows": null,
      "grid_column": null,
      "grid_gap": null,
      "grid_row": null,
      "grid_template_areas": null,
      "grid_template_columns": null,
      "grid_template_rows": null,
      "height": null,
      "justify_content": null,
      "justify_items": null,
      "left": null,
      "margin": null,
      "max_height": null,
      "max_width": null,
      "min_height": null,
      "min_width": null,
      "object_fit": null,
      "object_position": null,
      "order": null,
      "overflow": null,
      "overflow_x": null,
      "overflow_y": null,
      "padding": null,
      "right": null,
      "top": null,
      "visibility": null,
      "width": null
     }
    },
    "abf0171744d24c8295b88fc42c7e1093": {
     "model_module": "@jupyter-widgets/base",
     "model_module_version": "1.2.0",
     "model_name": "LayoutModel",
     "state": {
      "_model_module": "@jupyter-widgets/base",
      "_model_module_version": "1.2.0",
      "_model_name": "LayoutModel",
      "_view_count": null,
      "_view_module": "@jupyter-widgets/base",
      "_view_module_version": "1.2.0",
      "_view_name": "LayoutView",
      "align_content": null,
      "align_items": null,
      "align_self": null,
      "border": null,
      "bottom": null,
      "display": null,
      "flex": null,
      "flex_flow": null,
      "grid_area": null,
      "grid_auto_columns": null,
      "grid_auto_flow": null,
      "grid_auto_rows": null,
      "grid_column": null,
      "grid_gap": null,
      "grid_row": null,
      "grid_template_areas": null,
      "grid_template_columns": null,
      "grid_template_rows": null,
      "height": null,
      "justify_content": null,
      "justify_items": null,
      "left": null,
      "margin": null,
      "max_height": null,
      "max_width": null,
      "min_height": null,
      "min_width": null,
      "object_fit": null,
      "object_position": null,
      "order": null,
      "overflow": null,
      "overflow_x": null,
      "overflow_y": null,
      "padding": null,
      "right": null,
      "top": null,
      "visibility": null,
      "width": null
     }
    },
    "ba79245e04fe4c0e8eb05e6bfb2812ba": {
     "model_module": "@jupyter-widgets/controls",
     "model_module_version": "1.5.0",
     "model_name": "DescriptionStyleModel",
     "state": {
      "_model_module": "@jupyter-widgets/controls",
      "_model_module_version": "1.5.0",
      "_model_name": "DescriptionStyleModel",
      "_view_count": null,
      "_view_module": "@jupyter-widgets/base",
      "_view_module_version": "1.2.0",
      "_view_name": "StyleView",
      "description_width": ""
     }
    },
    "bade821dc11243779d91cc9aaf63d48d": {
     "model_module": "@jupyter-widgets/base",
     "model_module_version": "1.2.0",
     "model_name": "LayoutModel",
     "state": {
      "_model_module": "@jupyter-widgets/base",
      "_model_module_version": "1.2.0",
      "_model_name": "LayoutModel",
      "_view_count": null,
      "_view_module": "@jupyter-widgets/base",
      "_view_module_version": "1.2.0",
      "_view_name": "LayoutView",
      "align_content": null,
      "align_items": null,
      "align_self": null,
      "border": null,
      "bottom": null,
      "display": null,
      "flex": null,
      "flex_flow": null,
      "grid_area": null,
      "grid_auto_columns": null,
      "grid_auto_flow": null,
      "grid_auto_rows": null,
      "grid_column": null,
      "grid_gap": null,
      "grid_row": null,
      "grid_template_areas": null,
      "grid_template_columns": null,
      "grid_template_rows": null,
      "height": null,
      "justify_content": null,
      "justify_items": null,
      "left": null,
      "margin": null,
      "max_height": null,
      "max_width": null,
      "min_height": null,
      "min_width": null,
      "object_fit": null,
      "object_position": null,
      "order": null,
      "overflow": null,
      "overflow_x": null,
      "overflow_y": null,
      "padding": null,
      "right": null,
      "top": null,
      "visibility": null,
      "width": null
     }
    },
    "bef25ad96a6e4185813904906dc46edd": {
     "model_module": "@jupyter-widgets/base",
     "model_module_version": "1.2.0",
     "model_name": "LayoutModel",
     "state": {
      "_model_module": "@jupyter-widgets/base",
      "_model_module_version": "1.2.0",
      "_model_name": "LayoutModel",
      "_view_count": null,
      "_view_module": "@jupyter-widgets/base",
      "_view_module_version": "1.2.0",
      "_view_name": "LayoutView",
      "align_content": null,
      "align_items": null,
      "align_self": null,
      "border": null,
      "bottom": null,
      "display": null,
      "flex": null,
      "flex_flow": null,
      "grid_area": null,
      "grid_auto_columns": null,
      "grid_auto_flow": null,
      "grid_auto_rows": null,
      "grid_column": null,
      "grid_gap": null,
      "grid_row": null,
      "grid_template_areas": null,
      "grid_template_columns": null,
      "grid_template_rows": null,
      "height": null,
      "justify_content": null,
      "justify_items": null,
      "left": null,
      "margin": null,
      "max_height": null,
      "max_width": null,
      "min_height": null,
      "min_width": null,
      "object_fit": null,
      "object_position": null,
      "order": null,
      "overflow": null,
      "overflow_x": null,
      "overflow_y": null,
      "padding": null,
      "right": null,
      "top": null,
      "visibility": null,
      "width": null
     }
    },
    "c357225f13b44ad1a91779198e65d0dd": {
     "model_module": "@jupyter-widgets/controls",
     "model_module_version": "1.5.0",
     "model_name": "HTMLModel",
     "state": {
      "_dom_classes": [],
      "_model_module": "@jupyter-widgets/controls",
      "_model_module_version": "1.5.0",
      "_model_name": "HTMLModel",
      "_view_count": null,
      "_view_module": "@jupyter-widgets/controls",
      "_view_module_version": "1.5.0",
      "_view_name": "HTMLView",
      "description": "",
      "description_tooltip": null,
      "layout": "IPY_MODEL_e8b6d15ee23f42699d311a6880cd2915",
      "placeholder": "​",
      "style": "IPY_MODEL_fe20cfc59cbd4065aecda7ba32928a51",
      "value": "Generate report structure: 100%"
     }
    },
    "d938d7dce6c64e0db5461e9cdfcd1fed": {
     "model_module": "@jupyter-widgets/controls",
     "model_module_version": "1.5.0",
     "model_name": "ProgressStyleModel",
     "state": {
      "_model_module": "@jupyter-widgets/controls",
      "_model_module_version": "1.5.0",
      "_model_name": "ProgressStyleModel",
      "_view_count": null,
      "_view_module": "@jupyter-widgets/base",
      "_view_module_version": "1.2.0",
      "_view_name": "StyleView",
      "bar_color": null,
      "description_width": ""
     }
    },
    "d9ed337615ab4739967e749d414c3858": {
     "model_module": "@jupyter-widgets/base",
     "model_module_version": "1.2.0",
     "model_name": "LayoutModel",
     "state": {
      "_model_module": "@jupyter-widgets/base",
      "_model_module_version": "1.2.0",
      "_model_name": "LayoutModel",
      "_view_count": null,
      "_view_module": "@jupyter-widgets/base",
      "_view_module_version": "1.2.0",
      "_view_name": "LayoutView",
      "align_content": null,
      "align_items": null,
      "align_self": null,
      "border": null,
      "bottom": null,
      "display": null,
      "flex": "2",
      "flex_flow": null,
      "grid_area": null,
      "grid_auto_columns": null,
      "grid_auto_flow": null,
      "grid_auto_rows": null,
      "grid_column": null,
      "grid_gap": null,
      "grid_row": null,
      "grid_template_areas": null,
      "grid_template_columns": null,
      "grid_template_rows": null,
      "height": null,
      "justify_content": null,
      "justify_items": null,
      "left": null,
      "margin": null,
      "max_height": null,
      "max_width": null,
      "min_height": null,
      "min_width": null,
      "object_fit": null,
      "object_position": null,
      "order": null,
      "overflow": null,
      "overflow_x": null,
      "overflow_y": null,
      "padding": null,
      "right": null,
      "top": null,
      "visibility": null,
      "width": null
     }
    },
    "dc7a2d5e4bff44be924f0e26aacef480": {
     "model_module": "@jupyter-widgets/controls",
     "model_module_version": "1.5.0",
     "model_name": "HBoxModel",
     "state": {
      "_dom_classes": [],
      "_model_module": "@jupyter-widgets/controls",
      "_model_module_version": "1.5.0",
      "_model_name": "HBoxModel",
      "_view_count": null,
      "_view_module": "@jupyter-widgets/controls",
      "_view_module_version": "1.5.0",
      "_view_name": "HBoxView",
      "box_style": "",
      "children": [
       "IPY_MODEL_c357225f13b44ad1a91779198e65d0dd",
       "IPY_MODEL_8fd3972f6d614c22a2603ce6a7f60c0e",
       "IPY_MODEL_422c1e9228e646f096202209165d91a4"
      ],
      "layout": "IPY_MODEL_476addb480124a1f841d1bc980b75a24"
     }
    },
    "e39a229c66194cb3905db8182b25285d": {
     "model_module": "@jupyter-widgets/controls",
     "model_module_version": "1.5.0",
     "model_name": "HTMLModel",
     "state": {
      "_dom_classes": [],
      "_model_module": "@jupyter-widgets/controls",
      "_model_module_version": "1.5.0",
      "_model_name": "HTMLModel",
      "_view_count": null,
      "_view_module": "@jupyter-widgets/controls",
      "_view_module_version": "1.5.0",
      "_view_name": "HTMLView",
      "description": "",
      "description_tooltip": null,
      "layout": "IPY_MODEL_bef25ad96a6e4185813904906dc46edd",
      "placeholder": "​",
      "style": "IPY_MODEL_177509d5a346407598c3d6d22c6d4a3b",
      "value": "Done! Use &#x27;show&#x27; commands to display/save.   "
     }
    },
    "e5e81834b92743a7b30106e49f3f8442": {
     "model_module": "@jupyter-widgets/controls",
     "model_module_version": "1.5.0",
     "model_name": "FloatProgressModel",
     "state": {
      "_dom_classes": [],
      "_model_module": "@jupyter-widgets/controls",
      "_model_module_version": "1.5.0",
      "_model_name": "FloatProgressModel",
      "_view_count": null,
      "_view_module": "@jupyter-widgets/controls",
      "_view_module_version": "1.5.0",
      "_view_name": "ProgressView",
      "bar_style": "success",
      "description": "",
      "description_tooltip": null,
      "layout": "IPY_MODEL_bade821dc11243779d91cc9aaf63d48d",
      "max": 1,
      "min": 0,
      "orientation": "horizontal",
      "style": "IPY_MODEL_d938d7dce6c64e0db5461e9cdfcd1fed",
      "value": 1
     }
    },
    "e8b6d15ee23f42699d311a6880cd2915": {
     "model_module": "@jupyter-widgets/base",
     "model_module_version": "1.2.0",
     "model_name": "LayoutModel",
     "state": {
      "_model_module": "@jupyter-widgets/base",
      "_model_module_version": "1.2.0",
      "_model_name": "LayoutModel",
      "_view_count": null,
      "_view_module": "@jupyter-widgets/base",
      "_view_module_version": "1.2.0",
      "_view_name": "LayoutView",
      "align_content": null,
      "align_items": null,
      "align_self": null,
      "border": null,
      "bottom": null,
      "display": null,
      "flex": null,
      "flex_flow": null,
      "grid_area": null,
      "grid_auto_columns": null,
      "grid_auto_flow": null,
      "grid_auto_rows": null,
      "grid_column": null,
      "grid_gap": null,
      "grid_row": null,
      "grid_template_areas": null,
      "grid_template_columns": null,
      "grid_template_rows": null,
      "height": null,
      "justify_content": null,
      "justify_items": null,
      "left": null,
      "margin": null,
      "max_height": null,
      "max_width": null,
      "min_height": null,
      "min_width": null,
      "object_fit": null,
      "object_position": null,
      "order": null,
      "overflow": null,
      "overflow_x": null,
      "overflow_y": null,
      "padding": null,
      "right": null,
      "top": null,
      "visibility": null,
      "width": null
     }
    },
    "e91d319cac424d96995e48d5e3e33746": {
     "model_module": "@jupyter-widgets/controls",
     "model_module_version": "1.5.0",
     "model_name": "HTMLModel",
     "state": {
      "_dom_classes": [],
      "_model_module": "@jupyter-widgets/controls",
      "_model_module_version": "1.5.0",
      "_model_name": "HTMLModel",
      "_view_count": null,
      "_view_module": "@jupyter-widgets/controls",
      "_view_module_version": "1.5.0",
      "_view_name": "HTMLView",
      "description": "",
      "description_tooltip": null,
      "layout": "IPY_MODEL_9b19ec21743e4adaa2ee52989f1e7149",
      "placeholder": "​",
      "style": "IPY_MODEL_7e7b3271fee34fa0911bb77ac03e72fe",
      "value": "Summarize dataset: 100%"
     }
    },
    "ef01a1b1ac134b98abd68de2db6e26fb": {
     "model_module": "@jupyter-widgets/controls",
     "model_module_version": "1.5.0",
     "model_name": "ProgressStyleModel",
     "state": {
      "_model_module": "@jupyter-widgets/controls",
      "_model_module_version": "1.5.0",
      "_model_name": "ProgressStyleModel",
      "_view_count": null,
      "_view_module": "@jupyter-widgets/base",
      "_view_module_version": "1.2.0",
      "_view_name": "StyleView",
      "bar_color": null,
      "description_width": ""
     }
    },
    "f3bac07c449a457ab94fed1ecbb69049": {
     "model_module": "@jupyter-widgets/controls",
     "model_module_version": "1.5.0",
     "model_name": "HTMLModel",
     "state": {
      "_dom_classes": [],
      "_model_module": "@jupyter-widgets/controls",
      "_model_module_version": "1.5.0",
      "_model_name": "HTMLModel",
      "_view_count": null,
      "_view_module": "@jupyter-widgets/controls",
      "_view_module_version": "1.5.0",
      "_view_name": "HTMLView",
      "description": "",
      "description_tooltip": null,
      "layout": "IPY_MODEL_abf0171744d24c8295b88fc42c7e1093",
      "placeholder": "​",
      "style": "IPY_MODEL_0c9690b2fe154c09b14aa84aa60b5dc5",
      "value": " 1/1 [00:04&lt;00:00,  4.43s/it]"
     }
    },
    "f923a636c20a43cca787ec588d559535": {
     "model_module": "@jupyter-widgets/base",
     "model_module_version": "1.2.0",
     "model_name": "LayoutModel",
     "state": {
      "_model_module": "@jupyter-widgets/base",
      "_model_module_version": "1.2.0",
      "_model_name": "LayoutModel",
      "_view_count": null,
      "_view_module": "@jupyter-widgets/base",
      "_view_module_version": "1.2.0",
      "_view_name": "LayoutView",
      "align_content": null,
      "align_items": null,
      "align_self": null,
      "border": null,
      "bottom": null,
      "display": null,
      "flex": null,
      "flex_flow": null,
      "grid_area": null,
      "grid_auto_columns": null,
      "grid_auto_flow": null,
      "grid_auto_rows": null,
      "grid_column": null,
      "grid_gap": null,
      "grid_row": null,
      "grid_template_areas": null,
      "grid_template_columns": null,
      "grid_template_rows": null,
      "height": null,
      "justify_content": null,
      "justify_items": null,
      "left": null,
      "margin": null,
      "max_height": null,
      "max_width": null,
      "min_height": null,
      "min_width": null,
      "object_fit": null,
      "object_position": null,
      "order": null,
      "overflow": null,
      "overflow_x": null,
      "overflow_y": null,
      "padding": null,
      "right": null,
      "top": null,
      "visibility": null,
      "width": null
     }
    },
    "f9d80be9ce3642de9c7ff47e0a3c170f": {
     "model_module": "@jupyter-widgets/controls",
     "model_module_version": "1.5.0",
     "model_name": "FloatProgressModel",
     "state": {
      "_dom_classes": [],
      "_model_module": "@jupyter-widgets/controls",
      "_model_module_version": "1.5.0",
      "_model_name": "FloatProgressModel",
      "_view_count": null,
      "_view_module": "@jupyter-widgets/controls",
      "_view_module_version": "1.5.0",
      "_view_name": "ProgressView",
      "bar_style": "success",
      "description": "",
      "description_tooltip": null,
      "layout": "IPY_MODEL_a10f83c705eb43bc9b399bbf70c2cfb0",
      "max": 5,
      "min": 0,
      "orientation": "horizontal",
      "style": "IPY_MODEL_170d0e21995e40f680b38961a06ab550",
      "value": 5
     }
    },
    "fc8edb42e11f4a7b85ab6f822e20de96": {
     "model_module": "@jupyter-widgets/controls",
     "model_module_version": "1.5.0",
     "model_name": "DescriptionStyleModel",
     "state": {
      "_model_module": "@jupyter-widgets/controls",
      "_model_module_version": "1.5.0",
      "_model_name": "DescriptionStyleModel",
      "_view_count": null,
      "_view_module": "@jupyter-widgets/base",
      "_view_module_version": "1.2.0",
      "_view_name": "StyleView",
      "description_width": ""
     }
    },
    "fe20cfc59cbd4065aecda7ba32928a51": {
     "model_module": "@jupyter-widgets/controls",
     "model_module_version": "1.5.0",
     "model_name": "DescriptionStyleModel",
     "state": {
      "_model_module": "@jupyter-widgets/controls",
      "_model_module_version": "1.5.0",
      "_model_name": "DescriptionStyleModel",
      "_view_count": null,
      "_view_module": "@jupyter-widgets/base",
      "_view_module_version": "1.2.0",
      "_view_name": "StyleView",
      "description_width": ""
     }
    }
   }
  }
 },
 "nbformat": 4,
 "nbformat_minor": 1
}
