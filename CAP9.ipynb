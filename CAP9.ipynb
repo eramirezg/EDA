{
 "cells": [
  {
   "cell_type": "markdown",
   "id": "dde573a5",
   "metadata": {},
   "source": [
    "# PyGWalker\n",
    "\n",
    "PyGWalker ( enlace Python de Graphic Walker ) es una biblioteca de Python que puede ayudar a acelerar el flujo de trabajo de visualización y análisis de datos directamente dentro de un cuaderno Jupyter . Aprovecha el poder de la interactividad al proporcionar una interfaz similar al popular software de análisis de datos llamado Tableau.\n",
    "\n",
    "Con este tipo de interfaz, podemos arrastrar y soltar nuestras variables en secciones específicas y crear rápidamente un gráfico, filtrarlo y comprender nuestros datos.\n",
    "\n",
    "Para comenzar con PyGWalker, necesitamos instalarlo. Podemos hacer esto usando"
   ]
  },
  {
   "cell_type": "code",
   "execution_count": null,
   "id": "ae20d49e",
   "metadata": {},
   "outputs": [],
   "source": [
    "!pip install pygwalker"
   ]
  },
  {
   "cell_type": "markdown",
   "id": "b9694143",
   "metadata": {},
   "source": [
    "Una vez instalada la biblioteca PyGWalker, podemos abrir nuestro Jupyter Notebook y luego importar PyGWalker junto con la biblioteca pandas , que se utilizará para cargar nuestros datos desde un archivo CSV."
   ]
  },
  {
   "cell_type": "code",
   "execution_count": 1,
   "id": "fd125a46",
   "metadata": {},
   "outputs": [],
   "source": [
    "import pandas as pd \n",
    "import pygwalker as pyg"
   ]
  },
  {
   "cell_type": "markdown",
   "id": "662a722c",
   "metadata": {},
   "source": [
    "Una vez importados, el siguiente paso es cargar los datos"
   ]
  },
  {
   "cell_type": "code",
   "execution_count": 2,
   "id": "c43dde0e",
   "metadata": {},
   "outputs": [],
   "source": [
    "df = pd.read_csv('titanic.csv' )"
   ]
  },
  {
   "cell_type": "markdown",
   "id": "ad132dea",
   "metadata": {},
   "source": [
    "Ahora es el momento de ejecutar PyGWalker y podemos hacerlo con la siguiente sencilla llamada."
   ]
  },
  {
   "cell_type": "code",
   "execution_count": 4,
   "id": "c7351296",
   "metadata": {},
   "outputs": [
    {
     "data": {
      "application/vnd.jupyter.widget-view+json": {
       "model_id": "6649226468a94ef887a6af20dca608f5",
       "version_major": 2,
       "version_minor": 0
      },
      "text/plain": [
       "Box(children=(HTML(value='<div id=\"ifr-pyg-1\" style=\"height: auto\">\\n    <head>\\n        <meta http-equiv=\"Con…"
      ]
     },
     "metadata": {},
     "output_type": "display_data"
    },
    {
     "data": {
      "text/html": [
       "<html>\n",
       "<style>\n",
       ".tabs{\n",
       "    position:relative;\n",
       "    height:660px;\n",
       "}\n",
       ".tab-pane{\n",
       "    display:inline-block;\n",
       "}\n",
       ".tabs input[type='radio']{\n",
       "    position:absolute;\n",
       "    clip:rect(0,0,0,0)\n",
       "}\n",
       ".tab-item{\n",
       "    display:block;\n",
       "    height:34px;\n",
       "    line-height:34px;\n",
       "    cursor:pointer;\n",
       "    padding:0 10px\n",
       "}\n",
       "\n",
       ".tabs input[type='radio']:checked+.tab-item{\n",
       "    background:#2563eb;\n",
       "    color:#fff\n",
       "}\n",
       "\n",
       ".tab-content{\n",
       "    display: none;\n",
       "    position:absolute;\n",
       "    left:0;\n",
       "    top:56px;\n",
       "    bottom:0;\n",
       "    right:0;\n",
       "}\n",
       "\n",
       ".tabs input[type='radio']:checked+.tab-item+.tab-content{\n",
       "    display: block;\n",
       "}\n",
       "</style>\n",
       "\n",
       "<body>\n",
       "    <div id=\"pygwalker-preview-1\">\n",
       "        <div class=\"tabs\">\n",
       "            \n",
       "        </div>\n",
       "    </div>\n",
       "</body>\n",
       "</html>"
      ],
      "text/plain": [
       "<IPython.core.display.HTML object>"
      ]
     },
     "metadata": {},
     "output_type": "display_data"
    }
   ],
   "source": [
    "pyg.walk(df);"
   ]
  }
 ],
 "metadata": {
  "kernelspec": {
   "display_name": "Python 3 (ipykernel)",
   "language": "python",
   "name": "python3"
  },
  "language_info": {
   "codemirror_mode": {
    "name": "ipython",
    "version": 3
   },
   "file_extension": ".py",
   "mimetype": "text/x-python",
   "name": "python",
   "nbconvert_exporter": "python",
   "pygments_lexer": "ipython3",
   "version": "3.10.12"
  }
 },
 "nbformat": 4,
 "nbformat_minor": 5
}
